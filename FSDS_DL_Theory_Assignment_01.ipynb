{
 "cells": [
  {
   "attachments": {},
   "cell_type": "markdown",
   "id": "23332082",
   "metadata": {},
   "source": [
    "#### 1.\tWhat is the function of a summation junction of a neuron? What is threshold activation function ?"
   ]
  },
  {
   "cell_type": "code",
   "execution_count": null,
   "id": "87b0a860",
   "metadata": {},
   "outputs": [],
   "source": [
    "The summation junction of a neuron receives inputs from other neurons or external sources and sums them up to produce an output. The threshold activation function is a function that determines whether the neuron should fire or not based on the sum of inputs. If the sum of inputs exceeds a certain threshold, the neuron fires and produces an output. Otherwise, it remains inactive."
   ]
  },
  {
   "attachments": {},
   "cell_type": "markdown",
   "id": "73931c63",
   "metadata": {},
   "source": [
    "#### 2.\tWhat is a step function? What is the difference of step function with threshold function ?"
   ]
  },
  {
   "cell_type": "code",
   "execution_count": null,
   "id": "557bb1f4",
   "metadata": {},
   "outputs": [],
   "source": [
    "A step function is a function that produces a binary output based on a threshold. It produces a constant output until the threshold is reached, after which the output abruptly changes. The main difference between a step function and a threshold function is that a step function produces a constant output after the threshold is reached, while a threshold function produces an output that increases continuously as the input increases."
   ]
  },
  {
   "attachments": {},
   "cell_type": "markdown",
   "id": "efb9e19b",
   "metadata": {},
   "source": [
    "#### 3.\tExplain the McCulloch–Pitts model of neuron ?"
   ]
  },
  {
   "cell_type": "code",
   "execution_count": null,
   "id": "31cdf7c9",
   "metadata": {},
   "outputs": [],
   "source": [
    "The McCulloch–Pitts model of a neuron is a simplified model that describes how a neuron processes inputs and produces an output. It consists of multiple inputs, each with an associated weight, and a threshold value. The neuron computes the weighted sum of inputs and compares it to the threshold value. If the sum exceeds the threshold, the neuron produces an output of 1; otherwise, it produces an output of 0."
   ]
  },
  {
   "attachments": {},
   "cell_type": "markdown",
   "id": "c3814e96",
   "metadata": {},
   "source": [
    "#### 4.\tExplain the ADALINE network model ?"
   ]
  },
  {
   "cell_type": "code",
   "execution_count": null,
   "id": "d4890e46",
   "metadata": {},
   "outputs": [],
   "source": [
    "The ADALINE (Adaptive Linear Neuron) network model is a type of neural network that learns to classify inputs based on a linear combination of features. It uses the least mean squares algorithm to adjust the weights of its inputs to minimize the difference between the actual output and the desired output."
   ]
  },
  {
   "attachments": {},
   "cell_type": "markdown",
   "id": "4450753d",
   "metadata": {},
   "source": [
    "#### 5.\tWhat is the constraint of a simple perceptron? Why it may fail with a real-world data set ?"
   ]
  },
  {
   "cell_type": "code",
   "execution_count": null,
   "id": "d05375ec",
   "metadata": {},
   "outputs": [],
   "source": [
    "The constraint of a simple perceptron is that it can only classify linearly separable data. This means that it can only draw a straight line to separate the data into two classes. It may fail with a real-world data set that is not linearly separable, as it will not be able to find a solution that correctly classifies all the data."
   ]
  },
  {
   "attachments": {},
   "cell_type": "markdown",
   "id": "64e9b622",
   "metadata": {},
   "source": [
    "#### 6.\tWhat is linearly inseparable problem? What is the role of the hidden layer ?"
   ]
  },
  {
   "cell_type": "code",
   "execution_count": null,
   "id": "9549a261",
   "metadata": {},
   "outputs": [],
   "source": [
    "A linearly inseparable problem is a classification problem where the data cannot be separated by a straight line. The role of the hidden layer in a neural network is to provide additional non-linear transformations to the input data, allowing the network to classify non-linearly separable data."
   ]
  },
  {
   "attachments": {},
   "cell_type": "markdown",
   "id": "88662dbf",
   "metadata": {},
   "source": [
    "#### 7.\tExplain XOR problem in case of a simple perceptron? "
   ]
  },
  {
   "cell_type": "code",
   "execution_count": null,
   "id": "6aa1ac82",
   "metadata": {},
   "outputs": [],
   "source": [
    "The XOR problem is a classification problem where the inputs are two binary values, and the output is a binary value that is 1 if the inputs are different and 0 if they are the same. A simple perceptron cannot solve the XOR problem because it is not linearly separable."
   ]
  },
  {
   "attachments": {},
   "cell_type": "markdown",
   "id": "dfd5516b",
   "metadata": {},
   "source": [
    "#### 8.\tDesign a multi-layer perceptron to implement A XOR B ?"
   ]
  },
  {
   "cell_type": "code",
   "execution_count": null,
   "id": "397f960d",
   "metadata": {},
   "outputs": [],
   "source": [
    "A multi-layer perceptron to implement A XOR B can have two inputs, two hidden nodes, and one output node. The first layer computes a non-linear transformation of the input data, while the second layer computes a linear combination of the hidden nodes to produce the output."
   ]
  },
  {
   "attachments": {},
   "cell_type": "markdown",
   "id": "72541716",
   "metadata": {},
   "source": [
    "#### 9.\tExplain the single-layer feed forward architecture of ANN ?"
   ]
  },
  {
   "cell_type": "code",
   "execution_count": null,
   "id": "ff8f5c0c",
   "metadata": {},
   "outputs": [],
   "source": [
    "The single-layer feed forward architecture of ANN consists of an input layer, a single layer of neurons, and an output layer. Each neuron in the layer receives inputs from the previous layer and produces an output that is fed to the next layer."
   ]
  },
  {
   "attachments": {},
   "cell_type": "markdown",
   "id": "39337dbb",
   "metadata": {},
   "source": [
    "#### 10. Explain the competitive network architecture of ANN ?"
   ]
  },
  {
   "cell_type": "code",
   "execution_count": null,
   "id": "03a8218d",
   "metadata": {},
   "outputs": [],
   "source": [
    "The competitive network architecture of ANN is a type of unsupervised learning where the neurons compete with each other to become active. The neuron with the highest input signal becomes active and suppresses the activity of other neurons."
   ]
  },
  {
   "attachments": {},
   "cell_type": "markdown",
   "id": "14fcf88b",
   "metadata": {},
   "source": [
    "#### 11. Consider a multi-layer feed forward neural network. Enumerate and explain steps in the backpropagation algorithm used to train the network ?"
   ]
  },
  {
   "cell_type": "code",
   "execution_count": null,
   "id": "9b6e6a50",
   "metadata": {},
   "outputs": [],
   "source": [
    "The backpropagation algorithm used to train a multi-layer feed forward neural network consists of the following steps:\n",
    "\n",
    "Forward propagation: The input is propagated through the network to produce an output.\n",
    "Compute error: The error between the actual output and the desired output is computed.\n",
    "Backward propagation: The error is propagated back through the network, and the weights of the neurons are adjusted to minimize the error.\n",
    "Repeat: The process is repeated for each input in the training set until the error is minimized."
   ]
  },
  {
   "attachments": {},
   "cell_type": "markdown",
   "id": "f7ed34cd",
   "metadata": {},
   "source": [
    "#### 12. What are the advantages and disadvantages of neural networks ?"
   ]
  },
  {
   "cell_type": "code",
   "execution_count": null,
   "id": "0e7f78e4",
   "metadata": {},
   "outputs": [],
   "source": [
    "The advantages of neural networks include their ability to learn complex non-linear relationships, their robustness to noise"
   ]
  },
  {
   "attachments": {},
   "cell_type": "markdown",
   "id": "63795b39",
   "metadata": {},
   "source": [
    "#### 13. Write short notes on any two of the following:\n",
    "1. Biological neuron\n",
    "2. ReLU function\n",
    "3. Single-layer feed forward ANN\n",
    "4. Gradient descent\n",
    "5. Recurrent networks"
   ]
  },
  {
   "cell_type": "code",
   "execution_count": null,
   "id": "53ea9305",
   "metadata": {},
   "outputs": [],
   "source": [
    "Biological neuron: The biological neuron is the fundamental building block of the nervous system. It consists of a cell body, dendrites, and an axon. Dendrites receive signals from other neurons, and the axon transmits signals to other neurons. The neuron communicates with other neurons through synapses, where neurotransmitters are released from the axon terminals and received by the dendrites of other neurons. The firing of a biological neuron is determined by the balance between the excitatory and inhibitory signals received by the dendrites. The firing of a neuron can also trigger a cascade of activity in other neurons, leading to complex neural activity.\n",
    "\n",
    "ReLU function: The Rectified Linear Unit (ReLU) function is a widely used activation function in neural networks. It is a simple function that outputs the input if it is positive, and 0 if it is negative. The ReLU function is computationally efficient, and its derivative is straightforward to compute, making it suitable for large-scale neural networks. The ReLU function has been shown to perform well in practice, particularly in deep neural networks, where it helps prevent the vanishing gradient problem.\n",
    "\n",
    "Single-layer feed forward ANN: The single-layer feed forward Artificial Neural Network (ANN) is a type of neural network that consists of an input layer, a single layer of neurons, and an output layer. Each neuron in the layer receives inputs from the previous layer and produces an output that is fed to the next layer. The network computes a linear combination of the inputs, followed by a non-linear transformation, to produce the output. The single-layer feed forward ANN is a simple and computationally efficient model that can be used for binary classification, regression, or pattern recognition tasks.\n",
    "\n",
    "Gradient descent: Gradient descent is an optimization algorithm used in machine learning to minimize the cost or loss function of a model. The algorithm works by computing the gradient of the cost function with respect to the model parameters and updating the parameters in the direction of the negative gradient. This process is repeated iteratively until the cost function is minimized. Gradient descent is widely used in neural networks, where it is used to update the weights of the neurons during training.\n",
    "\n",
    "Recurrent networks: Recurrent Neural Networks (RNNs) are a type of neural network designed to handle sequential data, such as time series or natural language data. The network architecture includes recurrent connections between neurons, which allows the network to maintain internal state and process sequences of inputs. RNNs have been shown to be effective for a variety of tasks, such as speech recognition, language translation, and sentiment analysis. However, training RNNs can be challenging due to the vanishing gradient problem, where the gradient of the cost function becomes very small as it propagates through time, making it difficult to update the weights of the neurons."
   ]
  }
 ],
 "metadata": {
  "kernelspec": {
   "display_name": "Python 3",
   "language": "python",
   "name": "python3"
  },
  "language_info": {
   "codemirror_mode": {
    "name": "ipython",
    "version": 3
   },
   "file_extension": ".py",
   "mimetype": "text/x-python",
   "name": "python",
   "nbconvert_exporter": "python",
   "pygments_lexer": "ipython3",
   "version": "3.8.8"
  }
 },
 "nbformat": 4,
 "nbformat_minor": 5
}
